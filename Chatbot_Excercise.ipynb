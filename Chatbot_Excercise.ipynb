{
  "nbformat": 4,
  "nbformat_minor": 5,
  "metadata": {
    "kernelspec": {
      "display_name": "Python 3",
      "language": "python",
      "name": "python3"
    },
    "language_info": {
      "codemirror_mode": {
        "name": "ipython",
        "version": 3
      },
      "file_extension": ".py",
      "mimetype": "text/x-python",
      "name": "python",
      "nbconvert_exporter": "python",
      "pygments_lexer": "ipython3",
      "version": "3.7.10"
    },
    "colab": {
      "name": "Chatbot_Excercise.ipynb",
      "provenance": [],
      "collapsed_sections": [],
      "include_colab_link": true
    }
  },
  "cells": [
    {
      "cell_type": "markdown",
      "metadata": {
        "id": "view-in-github",
        "colab_type": "text"
      },
      "source": [
        "<a href=\"https://colab.research.google.com/github/raynerz/nlp/blob/main/Chatbot_Excercise.ipynb\" target=\"_parent\"><img src=\"https://colab.research.google.com/assets/colab-badge.svg\" alt=\"Open In Colab\"/></a>"
      ]
    },
    {
      "cell_type": "markdown",
      "metadata": {
        "id": "m88qjTeBXdyg"
      },
      "source": [
        "# Chatbot"
      ],
      "id": "m88qjTeBXdyg"
    },
    {
      "cell_type": "code",
      "metadata": {
        "colab": {
          "base_uri": "https://localhost:8080/"
        },
        "id": "xzAzL7V6XdB5",
        "outputId": "481b6025-0e0f-4c3e-f319-ace66cfe21e3"
      },
      "source": [
        "# Example partially based on: https://kavita-ganesan.com/tfidftransformer-tfidfvectorizer-usage-differences/#Tfidfvectorizer-Usage\n",
        "\n",
        "import nltk\n",
        "nltk.download('punkt')\n",
        "import numpy\n",
        "from sklearn.feature_extraction.text import CountVectorizer, TfidfTransformer\n",
        "import pandas as pd\n",
        "from sklearn.metrics.pairwise import cosine_similarity\n",
        "\n"
      ],
      "id": "xzAzL7V6XdB5",
      "execution_count": 16,
      "outputs": [
        {
          "output_type": "stream",
          "text": [
            "[nltk_data] Downloading package punkt to /root/nltk_data...\n",
            "[nltk_data]   Package punkt is already up-to-date!\n"
          ],
          "name": "stdout"
        }
      ]
    },
    {
      "cell_type": "code",
      "metadata": {
        "id": "LPbZs8PhFsIJ"
      },
      "source": [
        "#Preparing Data\n",
        "\n",
        "sent_tokens = []\n",
        "\n",
        "\n",
        "f = open('Switzerland.txt', mode='r')\n",
        "\n",
        "for line in f.readlines():\n",
        "  line = nltk.sent_tokenize(line)\n",
        "  for a in line:\n",
        "    sent_tokens.append(a)\n",
        "\n",
        "sent_tokens.append(\"What happened in year 1200\")  # add another sentence\n"
      ],
      "id": "LPbZs8PhFsIJ",
      "execution_count": 98,
      "outputs": []
    },
    {
      "cell_type": "code",
      "metadata": {
        "colab": {
          "base_uri": "https://localhost:8080/"
        },
        "id": "b6v3UIenBHmA",
        "outputId": "3773c2d4-9657-4d77-ac11-e8a1f2370d30"
      },
      "source": [
        "## TF\n",
        "\n",
        "cv=CountVectorizer()\n",
        "word_count_vector=cv.fit_transform(sent_tokens)\n",
        "print(word_count_vector.shape)\n",
        "\n",
        "\n"
      ],
      "id": "b6v3UIenBHmA",
      "execution_count": 99,
      "outputs": [
        {
          "output_type": "stream",
          "text": [
            "(654, 3376)\n"
          ],
          "name": "stdout"
        }
      ]
    },
    {
      "cell_type": "code",
      "metadata": {
        "colab": {
          "base_uri": "https://localhost:8080/"
        },
        "id": "cESvSG8xBKf-",
        "outputId": "ef899a03-43b9-4529-aed0-76465cff5ea4"
      },
      "source": [
        "## IDF\n",
        "\n",
        "tfidf_transformer = TfidfTransformer(smooth_idf=True, use_idf=True)\n",
        "tfidf_transformer.fit(word_count_vector)\n",
        "\n",
        "# print idf values\n",
        "df_idf = pd.DataFrame(tfidf_transformer.idf_, index=cv.get_feature_names(), columns=[\"idf_weights\"])\n",
        "\n",
        "print(df_idf)\n",
        " \n"
      ],
      "id": "cESvSG8xBKf-",
      "execution_count": 100,
      "outputs": [
        {
          "output_type": "stream",
          "text": [
            "            idf_weights\n",
            "000            4.776585\n",
            "003            6.791488\n",
            "018            6.791488\n",
            "049            6.791488\n",
            "06             6.791488\n",
            "...                 ...\n",
            "züriputsch     6.791488\n",
            "ˈzvittsera     6.791488\n",
            "ˈʃvaɪts        6.791488\n",
            "ˈʒviːtsrɐ      6.791488\n",
            "ˈʒviːtsʁɐ      6.791488\n",
            "\n",
            "[3376 rows x 1 columns]\n"
          ],
          "name": "stdout"
        }
      ]
    },
    {
      "cell_type": "code",
      "metadata": {
        "colab": {
          "base_uri": "https://localhost:8080/"
        },
        "id": "hLd_csDYBPKq",
        "outputId": "67568c72-120d-4dbe-a1a5-dfb32416baa7"
      },
      "source": [
        "## TF-IDF\n",
        "\n",
        "tf_idf_vector=tfidf_transformer.transform(word_count_vector)  # computes tfidf as tf*idf\n",
        "\n",
        "## Printing the results for the first document\n",
        "feature_names = cv.get_feature_names()\n",
        "\n",
        "# get tfidf vector for first document\n",
        "first_document_vector = tf_idf_vector[0]\n",
        "\n",
        "#print the scores\n",
        "df = pd.DataFrame(first_document_vector.T.todense(), index=feature_names, columns=[\"tfidf\"])\n",
        "df.sort_values(by=[\"tfidf\"],ascending=False)\n",
        "\n",
        "print(df)\n",
        "\n"
      ],
      "id": "hLd_csDYBPKq",
      "execution_count": 101,
      "outputs": [
        {
          "output_type": "stream",
          "text": [
            "            tfidf\n",
            "000           0.0\n",
            "003           0.0\n",
            "018           0.0\n",
            "049           0.0\n",
            "06            0.0\n",
            "...           ...\n",
            "züriputsch    0.0\n",
            "ˈzvittsera    0.0\n",
            "ˈʃvaɪts       0.0\n",
            "ˈʒviːtsrɐ     0.0\n",
            "ˈʒviːtsʁɐ     0.0\n",
            "\n",
            "[3376 rows x 1 columns]\n"
          ],
          "name": "stdout"
        }
      ]
    },
    {
      "cell_type": "code",
      "metadata": {
        "colab": {
          "base_uri": "https://localhost:8080/"
        },
        "id": "-tKn8gbfBWoh",
        "outputId": "766b8916-9156-45b4-bb81-6f05c1d494a5"
      },
      "source": [
        "## Comparing the newly added sentence to the existing sentences\n",
        "\n",
        "# compare the first element from the right to the rest of the documents\n",
        "vals = cosine_similarity(tf_idf_vector[-1], tf_idf_vector)\n",
        "vals = vals.flatten()  # returns a copy of the array collapsed into one dimension\n",
        "closest = numpy.amax(vals[:-1])  # skip last one, since it is itself (similarity = 1)\n",
        "closestIndex = int(numpy.where(vals == numpy.amax(vals[:-1]))[0])  # index of the max element\n",
        "print(\"Newly added sentence: \", sent_tokens[-1])\n",
        "print(\"The closest sentence is: \", sent_tokens[closestIndex])"
      ],
      "id": "-tKn8gbfBWoh",
      "execution_count": 102,
      "outputs": [
        {
          "output_type": "stream",
          "text": [
            "Newly added sentence:  What happened in year 1200\n",
            "The closest sentence is:  In the 2000s, domestic and international institutions expressed concern about what was perceived as an increase in xenophobia, particularly in some political campaigns.\n"
          ],
          "name": "stdout"
        }
      ]
    },
    {
      "cell_type": "code",
      "metadata": {
        "colab": {
          "base_uri": "https://localhost:8080/"
        },
        "id": "i8OqLB8DGVfh",
        "outputId": "a73443cc-2395-4405-a6d5-572ce0d77055"
      },
      "source": [
        "class Chatbot:\n",
        "  sent_tokens = []\n",
        "  word_count_vector = None\n",
        "  tf_idf_vector = None\n",
        "\n",
        "  def __init__(self,path=\"Switzerland.txt\"):\n",
        "\n",
        "    #Preparing Data\n",
        "    f = open(path, mode='r')\n",
        "\n",
        "    for line in f.readlines():\n",
        "      line = nltk.sent_tokenize(line)\n",
        "      for a in line:\n",
        "        self.sent_tokens.append(a)\n",
        "\n",
        "    f.close()\n",
        "\n",
        "\n",
        "  def answer_question(self, question=\"\"):\n",
        "    self.sent_tokens.append(question)  # add another sentence\n",
        "\n",
        "      # Calculating TF\n",
        "    cv=CountVectorizer()\n",
        "    self.word_count_vector=cv.fit_transform(self.sent_tokens)\n",
        "\n",
        "    # Calculating the tdidf Vector\n",
        "    tfidf_transformer = TfidfTransformer(smooth_idf=True, use_idf=True)\n",
        "    tfidf_transformer.fit(self.word_count_vector)\n",
        "    self.tf_idf_vector=tfidf_transformer.transform(self.word_count_vector)\n",
        "    \n",
        "    ## Comparing the newly added sentence to the existing sentences\n",
        "\n",
        "    # compare the first element from the right to the rest of the documents\n",
        "    vals = cosine_similarity(self.tf_idf_vector[-1], self.tf_idf_vector)\n",
        "    vals = vals.flatten()  # returns a copy of the array collapsed into one dimension\n",
        "    closest = numpy.amax(vals[:-1])  # skip last one, since it is itself (similarity = 1)\n",
        "    print(\"Response Cosine Similarity Score: \" + str(closest))\n",
        "    \n",
        "    if closest < 0.4:\n",
        "      return \"Sorry, I can't understand your question\"\n",
        "\n",
        "    closestIndex = int(numpy.where(vals == numpy.amax(vals[:-1]))[0])  # index of the max element\n",
        "    \n",
        "    reply = self.sent_tokens[closestIndex]\n",
        "    self.sent_tokens.pop()\n",
        "    return reply\n",
        "\n",
        "  def get_reply(self, message):\n",
        "    if 'Hi' in message or 'Hey' in message:\n",
        "        reply = \"Hi there\"\n",
        "    else:\n",
        "        reply = self.answer_question(message)\n",
        "    print('Bot: ' + reply)\n",
        "\n",
        "  def chatbot(self):\n",
        "    print('Bot: Hi there, I will answers all your questions about Switzerland!! Ask me whatever you want')\n",
        "    message = \"\"\n",
        "    while ('bye' not in message):\n",
        "      message = input('Human: ')\n",
        "      if message not in 'bye':\n",
        "        self.get_reply(message)\n",
        "    print(\"Bot: Bye Human\")\n",
        "\n",
        "\n",
        "Chatbot().chatbot()\n"
      ],
      "id": "i8OqLB8DGVfh",
      "execution_count": 113,
      "outputs": [
        {
          "output_type": "stream",
          "text": [
            "Bot: Hi there, I will answers all your questions about Switzerland!! Ask me whatever you want\n",
            "Human: What is the most popular drink of Switzerland\n",
            "Response Cosine Similarity Score: 0.601714765170884\n",
            "Bot: The most popular alcoholic drink in Switzerland is wine.\n",
            "Human: bye\n",
            "Bot: Bye Human\n"
          ],
          "name": "stdout"
        }
      ]
    },
    {
      "cell_type": "code",
      "metadata": {
        "id": "2ZJI1aotT7bU"
      },
      "source": [
        ""
      ],
      "id": "2ZJI1aotT7bU",
      "execution_count": null,
      "outputs": []
    }
  ]
}